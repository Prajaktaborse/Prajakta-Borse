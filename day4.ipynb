{
 "cells": [
  {
   "cell_type": "code",
   "execution_count": 10,
   "id": "communist-operation",
   "metadata": {},
   "outputs": [],
   "source": [
    "name=\"     prajakta    \"\n"
   ]
  },
  {
   "cell_type": "code",
   "execution_count": 11,
   "id": "duplicate-prairie",
   "metadata": {},
   "outputs": [
    {
     "name": "stdout",
     "output_type": "stream",
     "text": [
      "     prajakta    \n"
     ]
    }
   ],
   "source": [
    "rint(name)"
   ]
  },
  {
   "cell_type": "code",
   "execution_count": 12,
   "id": "political-rainbow",
   "metadata": {},
   "outputs": [
    {
     "data": {
      "text/plain": [
       "str"
      ]
     },
     "execution_count": 12,
     "metadata": {},
     "output_type": "execute_result"
    }
   ],
   "source": [
    "type(name)"
   ]
  },
  {
   "cell_type": "code",
   "execution_count": null,
   "id": "subtle-peoples",
   "metadata": {},
   "outputs": [],
   "source": [
    "name=\"prajakta\""
   ]
  },
  {
   "cell_type": "code",
   "execution_count": 13,
   "id": "permanent-rubber",
   "metadata": {},
   "outputs": [
    {
     "name": "stdout",
     "output_type": "stream",
     "text": [
      "     prajakta    \n"
     ]
    }
   ],
   "source": [
    "print(name)"
   ]
  },
  {
   "cell_type": "code",
   "execution_count": 14,
   "id": "neither-orange",
   "metadata": {},
   "outputs": [
    {
     "name": "stdout",
     "output_type": "stream",
     "text": [
      "     Prajakta    \n"
     ]
    }
   ],
   "source": [
    "print(name.title())"
   ]
  },
  {
   "cell_type": "code",
   "execution_count": 24,
   "id": "superior-kansas",
   "metadata": {},
   "outputs": [],
   "source": [
    "fullname='prajakta chhotulal borse'"
   ]
  },
  {
   "cell_type": "code",
   "execution_count": 25,
   "id": "suited-revelation",
   "metadata": {},
   "outputs": [
    {
     "name": "stdout",
     "output_type": "stream",
     "text": [
      "Prajakta Chhotulal Borse\n"
     ]
    }
   ],
   "source": [
    "print(fullname.title())"
   ]
  },
  {
   "cell_type": "code",
   "execution_count": 26,
   "id": "handled-penetration",
   "metadata": {},
   "outputs": [
    {
     "name": "stdout",
     "output_type": "stream",
     "text": [
      "PRAJAKTA CHHOTULAL BORSE\n"
     ]
    }
   ],
   "source": [
    "print(fullname.upper())"
   ]
  },
  {
   "cell_type": "code",
   "execution_count": 27,
   "id": "charitable-wheel",
   "metadata": {},
   "outputs": [
    {
     "name": "stdout",
     "output_type": "stream",
     "text": [
      "prajakta chhotulal borse\n"
     ]
    }
   ],
   "source": [
    "print(fullname.lower())"
   ]
  },
  {
   "cell_type": "code",
   "execution_count": null,
   "id": "municipal-occurrence",
   "metadata": {},
   "outputs": [],
   "source": [
    "firstname=\"prajakta\""
   ]
  },
  {
   "cell_type": "code",
   "execution_count": null,
   "id": "annoying-assets",
   "metadata": {},
   "outputs": [],
   "source": [
    "lastname=\"borse\""
   ]
  },
  {
   "cell_type": "code",
   "execution_count": null,
   "id": "affiliated-recycling",
   "metadata": {},
   "outputs": [],
   "source": [
    "print"
   ]
  },
  {
   "cell_type": "code",
   "execution_count": null,
   "id": "successful-brand",
   "metadata": {},
   "outputs": [],
   "source": []
  },
  {
   "cell_type": "code",
   "execution_count": 28,
   "id": "dated-capability",
   "metadata": {},
   "outputs": [
    {
     "ename": "SyntaxError",
     "evalue": "invalid syntax (<ipython-input-28-67f42a8b7824>, line 1)",
     "output_type": "error",
     "traceback": [
      "\u001b[1;36m  File \u001b[1;32m\"<ipython-input-28-67f42a8b7824>\"\u001b[1;36m, line \u001b[1;32m1\u001b[0m\n\u001b[1;33m    f string\u001b[0m\n\u001b[1;37m      ^\u001b[0m\n\u001b[1;31mSyntaxError\u001b[0m\u001b[1;31m:\u001b[0m invalid syntax\n"
     ]
    }
   ],
   "source": [
    "fstring"
   ]
  },
  {
   "cell_type": "code",
   "execution_count": 29,
   "id": "wicked-drinking",
   "metadata": {},
   "outputs": [
    {
     "ename": "SyntaxError",
     "evalue": "invalid syntax (<ipython-input-29-5f3728991816>, line 1)",
     "output_type": "error",
     "traceback": [
      "\u001b[1;36m  File \u001b[1;32m\"<ipython-input-29-5f3728991816>\"\u001b[1;36m, line \u001b[1;32m1\u001b[0m\n\u001b[1;33m    custom words-----()\u001b[0m\n\u001b[1;37m           ^\u001b[0m\n\u001b[1;31mSyntaxError\u001b[0m\u001b[1;31m:\u001b[0m invalid syntax\n"
     ]
    }
   ],
   "source": [
    "custom words-----()"
   ]
  },
  {
   "cell_type": "code",
   "execution_count": 30,
   "id": "committed-execution",
   "metadata": {},
   "outputs": [
    {
     "ename": "SyntaxError",
     "evalue": "invalid syntax (<ipython-input-30-b82acd33a723>, line 3)",
     "output_type": "error",
     "traceback": [
      "\u001b[1;36m  File \u001b[1;32m\"<ipython-input-30-b82acd33a723>\"\u001b[1;36m, line \u001b[1;32m3\u001b[0m\n\u001b[1;33m    sentance=f \"{firstname} {lastname}\"\u001b[0m\n\u001b[1;37m               ^\u001b[0m\n\u001b[1;31mSyntaxError\u001b[0m\u001b[1;31m:\u001b[0m invalid syntax\n"
     ]
    }
   ],
   "source": [
    "firstname=\"prajakta\"\n",
    "lastname=\"borse\"\n",
    "sentance=f \"{firstname} {lastname}\"\n",
    "print(sentance)"
   ]
  },
  {
   "cell_type": "code",
   "execution_count": null,
   "id": "gross-vitamin",
   "metadata": {},
   "outputs": [],
   "source": [
    "\n"
   ]
  },
  {
   "cell_type": "code",
   "execution_count": null,
   "id": "hungarian-outreach",
   "metadata": {},
   "outputs": [],
   "source": [
    "firstname=\"prajakta\""
   ]
  },
  {
   "cell_type": "code",
   "execution_count": null,
   "id": "distinguished-kazakhstan",
   "metadata": {},
   "outputs": [],
   "source": [
    "lastname=\"borse\""
   ]
  },
  {
   "cell_type": "code",
   "execution_count": null,
   "id": "acquired-gamma",
   "metadata": {},
   "outputs": [],
   "source": []
  },
  {
   "cell_type": "code",
   "execution_count": null,
   "id": "racial-genome",
   "metadata": {},
   "outputs": [],
   "source": []
  },
  {
   "cell_type": "code",
   "execution_count": 33,
   "id": "pediatric-external",
   "metadata": {},
   "outputs": [
    {
     "name": "stdout",
     "output_type": "stream",
     "text": [
      "fav_sub \n",
      "\tc \n",
      "\tc++ \n",
      "\topp \n",
      "\tjava \n",
      "\tpython \n",
      "\toracal\n"
     ]
    }
   ],
   "source": [
    "print('fav_sub','\\n\\tc','\\n\\tc++','\\n\\topp','\\n\\tjava','\\n\\tpython','\\n\\toracal')"
   ]
  },
  {
   "cell_type": "code",
   "execution_count": null,
   "id": "criminal-shanghai",
   "metadata": {},
   "outputs": [],
   "source": []
  },
  {
   "cell_type": "markdown",
   "id": "circular-sullivan",
   "metadata": {},
   "source": []
  },
  {
   "cell_type": "code",
   "execution_count": 37,
   "id": "technological-edinburgh",
   "metadata": {},
   "outputs": [],
   "source": [
    "name = 'raj'"
   ]
  },
  {
   "cell_type": "code",
   "execution_count": 38,
   "id": "restricted-harvard",
   "metadata": {},
   "outputs": [
    {
     "name": "stdout",
     "output_type": "stream",
     "text": [
      "raj\n"
     ]
    }
   ],
   "source": [
    "print(name)"
   ]
  },
  {
   "cell_type": "code",
   "execution_count": 44,
   "id": "analyzed-neighbor",
   "metadata": {},
   "outputs": [],
   "source": [
    "name1 = 'praju'\n"
   ]
  },
  {
   "cell_type": "code",
   "execution_count": 41,
   "id": "concerned-matthew",
   "metadata": {},
   "outputs": [
    {
     "name": "stdout",
     "output_type": "stream",
     "text": [
      "praju\n"
     ]
    }
   ],
   "source": [
    "print(name1)"
   ]
  },
  {
   "cell_type": "code",
   "execution_count": 45,
   "id": "timely-complexity",
   "metadata": {},
   "outputs": [
    {
     "data": {
      "text/plain": [
       "'praju'"
      ]
     },
     "execution_count": 45,
     "metadata": {},
     "output_type": "execute_result"
    }
   ],
   "source": [
    "name1. lstrip()"
   ]
  },
  {
   "cell_type": "markdown",
   "id": "particular-kernel",
   "metadata": {},
   "source": []
  },
  {
   "cell_type": "markdown",
   "id": "final-ordering",
   "metadata": {},
   "source": []
  },
  {
   "cell_type": "code",
   "execution_count": 47,
   "id": "surgical-seeking",
   "metadata": {},
   "outputs": [],
   "source": [
    "name_me = '  sam    '"
   ]
  },
  {
   "cell_type": "markdown",
   "id": "vital-billy",
   "metadata": {},
   "source": [
    "### print(name_me)"
   ]
  },
  {
   "cell_type": "code",
   "execution_count": 49,
   "id": "mighty-equity",
   "metadata": {},
   "outputs": [
    {
     "data": {
      "text/plain": [
       "'  sam'"
      ]
     },
     "execution_count": 49,
     "metadata": {},
     "output_type": "execute_result"
    }
   ],
   "source": [
    "name_me.rstrip()"
   ]
  },
  {
   "cell_type": "code",
   "execution_count": 50,
   "id": "presidential-remedy",
   "metadata": {},
   "outputs": [
    {
     "data": {
      "text/plain": [
       "'sam'"
      ]
     },
     "execution_count": 50,
     "metadata": {},
     "output_type": "execute_result"
    }
   ],
   "source": [
    "name_me.strip()"
   ]
  },
  {
   "cell_type": "code",
   "execution_count": null,
   "id": "certified-notebook",
   "metadata": {},
   "outputs": [],
   "source": []
  },
  {
   "cell_type": "code",
   "execution_count": null,
   "id": "welcome-hunger",
   "metadata": {},
   "outputs": [],
   "source": [
    "#Introduction to list data type\n",
    "\n",
    "#def:a list is acollection of items in a particulat order\n",
    "\n",
    "#classification:  mutable datatype\n",
    "\n",
    "\n",
    "#list datatype ---[]\n",
    "\n"
   ]
  },
  {
   "cell_type": "code",
   "execution_count": 83,
   "id": "initial-andrew",
   "metadata": {},
   "outputs": [],
   "source": [
    "students = ['ram','chitra','nil','prajakta','shweta','aashu','roshani','ruchi','manisha','kirti']"
   ]
  },
  {
   "cell_type": "code",
   "execution_count": 84,
   "id": "false-vanilla",
   "metadata": {},
   "outputs": [
    {
     "name": "stdout",
     "output_type": "stream",
     "text": [
      "['ram', 'chitra', 'nil', 'prajakta', 'shweta', 'aashu', 'roshani', 'ruchi', 'manisha', 'kirti']\n"
     ]
    }
   ],
   "source": [
    "print(students)"
   ]
  },
  {
   "cell_type": "code",
   "execution_count": 85,
   "id": "mexican-shadow",
   "metadata": {},
   "outputs": [
    {
     "data": {
      "text/plain": [
       "list"
      ]
     },
     "execution_count": 85,
     "metadata": {},
     "output_type": "execute_result"
    }
   ],
   "source": [
    "type(students)"
   ]
  },
  {
   "cell_type": "code",
   "execution_count": null,
   "id": "transsexual-conjunction",
   "metadata": {},
   "outputs": [],
   "source": []
  },
  {
   "cell_type": "code",
   "execution_count": 86,
   "id": "guilty-turkish",
   "metadata": {
    "collapsed": true
   },
   "outputs": [
    {
     "data": {
      "text/plain": [
       "('ram',\n",
       " 'chitra',\n",
       " 'nil',\n",
       " 'prajakta',\n",
       " 'shweta',\n",
       " 'aashu',\n",
       " 'roshani',\n",
       " 'ruchi',\n",
       " 'manisha',\n",
       " 'kirti')"
      ]
     },
     "execution_count": 86,
     "metadata": {},
     "output_type": "execute_result"
    }
   ],
   "source": [
    "# what is Indexing??? \n",
    "\n",
    "'ram','chitra','nil','prajakta','shweta','aashu','roshani','ruchi','manisha','kirti',"
   ]
  },
  {
   "cell_type": "code",
   "execution_count": 87,
   "id": "reflected-dynamics",
   "metadata": {
    "collapsed": true
   },
   "outputs": [
    {
     "ename": "SyntaxError",
     "evalue": "invalid syntax (<ipython-input-87-b523c455d994>, line 1)",
     "output_type": "error",
     "traceback": [
      "\u001b[1;36m  File \u001b[1;32m\"<ipython-input-87-b523c455d994>\"\u001b[1;36m, line \u001b[1;32m1\u001b[0m\n\u001b[1;33m    0,1,2,3,4,5,6,7,8,9,......\u001b[0m\n\u001b[1;37m                              ^\u001b[0m\n\u001b[1;31mSyntaxError\u001b[0m\u001b[1;31m:\u001b[0m invalid syntax\n"
     ]
    }
   ],
   "source": [
    "\n",
    "0,1,2,3,4,5,6,7,8,9,......\n"
   ]
  },
  {
   "cell_type": "code",
   "execution_count": null,
   "id": "alleged-transaction",
   "metadata": {},
   "outputs": [],
   "source": []
  },
  {
   "cell_type": "code",
   "execution_count": 88,
   "id": "certain-johnson",
   "metadata": {},
   "outputs": [
    {
     "name": "stdout",
     "output_type": "stream",
     "text": [
      "ram\n",
      "nil\n",
      "aashu\n",
      "kirti\n"
     ]
    }
   ],
   "source": [
    "print(students[0])\n",
    "print(students[2])\n",
    "print(students[5])\n",
    "print(students[9])\n"
   ]
  },
  {
   "cell_type": "code",
   "execution_count": null,
   "id": "mounted-chain",
   "metadata": {},
   "outputs": [],
   "source": []
  },
  {
   "cell_type": "code",
   "execution_count": null,
   "id": "hollow-carter",
   "metadata": {},
   "outputs": [],
   "source": [
    "# how to add a new element to the list?\n",
    "# how to modify the element in the list?\n",
    "# how to delete the element in the list?"
   ]
  },
  {
   "cell_type": "code",
   "execution_count": null,
   "id": "moved-carroll",
   "metadata": {},
   "outputs": [],
   "source": [
    "# how to add a new element to the list?\n"
   ]
  },
  {
   "cell_type": "code",
   "execution_count": null,
   "id": "animated-richardson",
   "metadata": {},
   "outputs": [],
   "source": [
    "students = ['ram','chitra','nil','prajakta','shweta','aashu','roshani','ruchi','manisha','kirti']"
   ]
  },
  {
   "cell_type": "code",
   "execution_count": null,
   "id": "apparent-deficit",
   "metadata": {},
   "outputs": [],
   "source": [
    "# Req: i want to add raju to this list"
   ]
  },
  {
   "cell_type": "code",
   "execution_count": 89,
   "id": "chicken-portland",
   "metadata": {},
   "outputs": [
    {
     "name": "stdout",
     "output_type": "stream",
     "text": [
      "['ram', 'chitra', 'nil', 'prajakta', 'shweta', 'aashu', 'roshani', 'ruchi', 'manisha', 'kirti', 'raju']\n"
     ]
    }
   ],
   "source": [
    "students.append('raju')\n",
    "print(students)\n"
   ]
  },
  {
   "cell_type": "code",
   "execution_count": 91,
   "id": "advisory-mortality",
   "metadata": {},
   "outputs": [],
   "source": [
    "students.append('nisha')\n"
   ]
  },
  {
   "cell_type": "code",
   "execution_count": 92,
   "id": "excessive-reset",
   "metadata": {},
   "outputs": [
    {
     "name": "stdout",
     "output_type": "stream",
     "text": [
      "['ram', 'chitra', 'nil', 'prajakta', 'shweta', 'aashu', 'roshani', 'ruchi', 'manisha', 'kirti', 'raju', 'nisha']\n"
     ]
    }
   ],
   "source": [
    "print(students)"
   ]
  },
  {
   "cell_type": "code",
   "execution_count": 93,
   "id": "alien-vampire",
   "metadata": {},
   "outputs": [],
   "source": [
    "students.insert(2,'rohit')"
   ]
  },
  {
   "cell_type": "code",
   "execution_count": 94,
   "id": "clinical-airport",
   "metadata": {},
   "outputs": [
    {
     "name": "stdout",
     "output_type": "stream",
     "text": [
      "['ram', 'chitra', 'rohit', 'nil', 'prajakta', 'shweta', 'aashu', 'roshani', 'ruchi', 'manisha', 'kirti', 'raju', 'nisha']\n"
     ]
    }
   ],
   "source": [
    "print(students)"
   ]
  },
  {
   "cell_type": "code",
   "execution_count": null,
   "id": "formed-alarm",
   "metadata": {},
   "outputs": [],
   "source": [
    "#how to modify the element in the list?"
   ]
  },
  {
   "cell_type": "code",
   "execution_count": 95,
   "id": "discrete-disclaimer",
   "metadata": {},
   "outputs": [
    {
     "name": "stdout",
     "output_type": "stream",
     "text": [
      "['ram', 'chitra', 'rohit', 'nil', 'prajakta', 'shweta', 'aashu', 'roshani', 'ruchi', 'manisha', 'kirti', 'raju', 'nisha']\n"
     ]
    }
   ],
   "source": [
    "print(students)"
   ]
  },
  {
   "cell_type": "code",
   "execution_count": 96,
   "id": "collect-cambodia",
   "metadata": {},
   "outputs": [],
   "source": [
    "students[1] = 'sachin'\n"
   ]
  },
  {
   "cell_type": "code",
   "execution_count": 97,
   "id": "durable-fellow",
   "metadata": {},
   "outputs": [
    {
     "name": "stdout",
     "output_type": "stream",
     "text": [
      "['ram', 'sachin', 'rohit', 'nil', 'prajakta', 'shweta', 'aashu', 'roshani', 'ruchi', 'manisha', 'kirti', 'raju', 'nisha']\n"
     ]
    }
   ],
   "source": [
    "print(students)"
   ]
  },
  {
   "cell_type": "code",
   "execution_count": null,
   "id": "offshore-significance",
   "metadata": {},
   "outputs": [],
   "source": [
    "# how to delete and element in the list??"
   ]
  },
  {
   "cell_type": "code",
   "execution_count": 98,
   "id": "complete-reform",
   "metadata": {},
   "outputs": [],
   "source": [
    "del students[4]"
   ]
  },
  {
   "cell_type": "code",
   "execution_count": 99,
   "id": "incorrect-desktop",
   "metadata": {},
   "outputs": [
    {
     "name": "stdout",
     "output_type": "stream",
     "text": [
      "['ram', 'sachin', 'rohit', 'nil', 'shweta', 'aashu', 'roshani', 'ruchi', 'manisha', 'kirti', 'raju', 'nisha']\n"
     ]
    }
   ],
   "source": [
    "print(students)"
   ]
  },
  {
   "cell_type": "code",
   "execution_count": 105,
   "id": "mighty-trace",
   "metadata": {},
   "outputs": [],
   "source": [
    "students.append('sai')"
   ]
  },
  {
   "cell_type": "code",
   "execution_count": 106,
   "id": "consolidated-headset",
   "metadata": {},
   "outputs": [
    {
     "name": "stdout",
     "output_type": "stream",
     "text": [
      "['ram', 'sachin', 'rohit', 'nil', 'shweta', 'aashu', 'roshani', 'ruchi', 'manisha', 'kirti', 'raju', 'nisha', 'sai', 'sai', 'sai', 'sai']\n"
     ]
    }
   ],
   "source": [
    "print(students)"
   ]
  },
  {
   "cell_type": "code",
   "execution_count": 107,
   "id": "dominant-amendment",
   "metadata": {},
   "outputs": [],
   "source": [
    "list=['nashik','pune','dhule','indor']"
   ]
  },
  {
   "cell_type": "code",
   "execution_count": 108,
   "id": "alone-password",
   "metadata": {},
   "outputs": [],
   "source": [
    "list.append('surat')"
   ]
  },
  {
   "cell_type": "code",
   "execution_count": 109,
   "id": "heated-gardening",
   "metadata": {},
   "outputs": [
    {
     "name": "stdout",
     "output_type": "stream",
     "text": [
      "['nashik', 'pune', 'dhule', 'indor', 'surat']\n"
     ]
    }
   ],
   "source": [
    "print(list)"
   ]
  },
  {
   "cell_type": "code",
   "execution_count": 110,
   "id": "phantom-fetish",
   "metadata": {},
   "outputs": [],
   "source": [
    "list.insert(2,'amrale')"
   ]
  },
  {
   "cell_type": "code",
   "execution_count": 111,
   "id": "ideal-photograph",
   "metadata": {},
   "outputs": [
    {
     "name": "stdout",
     "output_type": "stream",
     "text": [
      "['nashik', 'pune', 'amrale', 'dhule', 'indor', 'surat']\n"
     ]
    }
   ],
   "source": [
    "print(list)"
   ]
  },
  {
   "cell_type": "code",
   "execution_count": 112,
   "id": "dimensional-display",
   "metadata": {},
   "outputs": [],
   "source": [
    "list=['nashik','pune','dhule','indor']"
   ]
  },
  {
   "cell_type": "code",
   "execution_count": 113,
   "id": "front-shock",
   "metadata": {},
   "outputs": [
    {
     "name": "stdout",
     "output_type": "stream",
     "text": [
      "['nashik', 'pune', 'dhule', 'indor']\n"
     ]
    }
   ],
   "source": [
    "print(list)"
   ]
  },
  {
   "cell_type": "code",
   "execution_count": 115,
   "id": "negative-robinson",
   "metadata": {},
   "outputs": [],
   "source": [
    "list=['nashik','pune','dhule','indor']"
   ]
  },
  {
   "cell_type": "code",
   "execution_count": null,
   "id": "hidden-inclusion",
   "metadata": {},
   "outputs": [],
   "source": []
  },
  {
   "cell_type": "code",
   "execution_count": null,
   "id": "latest-shepherd",
   "metadata": {},
   "outputs": [],
   "source": []
  },
  {
   "cell_type": "code",
   "execution_count": 116,
   "id": "interested-little",
   "metadata": {},
   "outputs": [
    {
     "name": "stdout",
     "output_type": "stream",
     "text": [
      "['nashik', 'pune', 'dhule', 'indor']\n"
     ]
    }
   ],
   "source": [
    "print(list)"
   ]
  },
  {
   "cell_type": "code",
   "execution_count": 117,
   "id": "imperial-firewall",
   "metadata": {},
   "outputs": [],
   "source": [
    "\n",
    "\n",
    "\n"
   ]
  },
  {
   "cell_type": "code",
   "execution_count": null,
   "id": "rising-invitation",
   "metadata": {},
   "outputs": [],
   "source": []
  },
  {
   "cell_type": "code",
   "execution_count": null,
   "id": "august-small",
   "metadata": {},
   "outputs": [],
   "source": []
  },
  {
   "cell_type": "code",
   "execution_count": null,
   "id": "scenic-sleeve",
   "metadata": {},
   "outputs": [],
   "source": []
  },
  {
   "cell_type": "code",
   "execution_count": null,
   "id": "greenhouse-canal",
   "metadata": {},
   "outputs": [],
   "source": []
  },
  {
   "cell_type": "code",
   "execution_count": null,
   "id": "sufficient-active",
   "metadata": {},
   "outputs": [],
   "source": []
  }
 ],
 "metadata": {
  "kernelspec": {
   "display_name": "Python 3",
   "language": "python",
   "name": "python3"
  },
  "language_info": {
   "codemirror_mode": {
    "name": "ipython",
    "version": 3
   },
   "file_extension": ".py",
   "mimetype": "text/x-python",
   "name": "python",
   "nbconvert_exporter": "python",
   "pygments_lexer": "ipython3",
   "version": "3.9.2"
  }
 },
 "nbformat": 4,
 "nbformat_minor": 5
}
